{
 "cells": [
  {
   "cell_type": "code",
   "execution_count": 5,
   "id": "bb685b6c",
   "metadata": {},
   "outputs": [],
   "source": [
    "from glob import glob\n",
    "import os.path as osp\n",
    "\n",
    "def load_dirs(dirs):\n",
    "    lines = []\n",
    "    for dir in dirs:\n",
    "        folder_list = glob(osp.join(root, f\"{dir}/Frame*\"))\n",
    "        folder_list.sort()\n",
    "        folder_list = [s[len(root):] for s in folder_list]\n",
    "\n",
    "        for folder in folder_list:\n",
    "            img_list = glob(root + folder + \"/Frame*.png\")\n",
    "            img_list.sort()\n",
    "            for i in range(delta, len(img_list)-delta):\n",
    "                line = \"{} {} {} {}\".format(folder,\n",
    "                                            osp.basename(img_list[i-delta]).split(\".\")[0],\n",
    "                                            osp.basename(img_list[i]).split(\".\")[0],\n",
    "                                            osp.basename(img_list[i+delta]).split(\".\")[0])\n",
    "                \n",
    "                lines.append(line)\n",
    "    return lines\n",
    "\n",
    "debug = False\n",
    "root = '/home/data/datasets/SimCol-complete/'\n",
    "\n",
    "train = [\"SyntheticColon_I/Train\", \"SyntheticColon_II/Train\"]\n",
    "val = [\"SyntheticColon_I/Val\", \"SyntheticColon_II/Val\"]\n",
    "test = [\"SyntheticColon_I/Test_labels\", \"SyntheticColon_II/Test_labels\", \"SyntheticColon_III/Test_labels\"]\n",
    "\n",
    "delta = 3\n",
    "train_lines = load_dirs(train)\n",
    "val_lines = load_dirs(val)\n",
    "test_lines = load_dirs(test)\n",
    "\n",
    "with open(\"train_files.txt\", \"w\") as f:\n",
    "    for i in range(len(train_lines)):\n",
    "        f.write(train_lines[i]+\"\\n\")\n",
    "\n",
    "with open(\"val_files.txt\", \"w\") as f:\n",
    "    for i in range(len(val_lines)):\n",
    "        f.write(val_lines[i]+\"\\n\")\n",
    "        \n",
    "with open(\"test_files.txt\", \"w\") as f:\n",
    "    for i in range(len(test_lines)):\n",
    "        f.write(test_lines[i]+\"\\n\")"
   ]
  },
  {
   "cell_type": "code",
   "execution_count": null,
   "id": "bf701bee",
   "metadata": {},
   "outputs": [],
   "source": []
  }
 ],
 "metadata": {
  "kernelspec": {
   "display_name": "Python 3 (ipykernel)",
   "language": "python",
   "name": "python3"
  },
  "language_info": {
   "codemirror_mode": {
    "name": "ipython",
    "version": 3
   },
   "file_extension": ".py",
   "mimetype": "text/x-python",
   "name": "python",
   "nbconvert_exporter": "python",
   "pygments_lexer": "ipython3",
   "version": "3.8.16"
  }
 },
 "nbformat": 4,
 "nbformat_minor": 5
}
